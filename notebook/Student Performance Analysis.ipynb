{
 "cells": [
  {
   "cell_type": "code",
   "execution_count": 1,
   "id": "b02ea771",
   "metadata": {},
   "outputs": [],
   "source": [
    "import numpy as np\n",
    "import pandas as pd\n",
    "import matplotlib.pyplot as plt\n",
    "import seaborn as sns\n",
    "import warnings\n",
    "warnings.filterwarnings(\"ignore\")\n",
    "%matplotlib inline"
   ]
  },
  {
   "cell_type": "code",
   "execution_count": 2,
   "id": "ff14126f",
   "metadata": {},
   "outputs": [],
   "source": [
    "dataset = pd.read_csv(\"data/stud.csv\")"
   ]
  },
  {
   "cell_type": "code",
   "execution_count": 3,
   "id": "b0c6b4c9",
   "metadata": {},
   "outputs": [],
   "source": [
    "pd.set_option(\"display.max_columns\",None)"
   ]
  },
  {
   "cell_type": "code",
   "execution_count": 4,
   "id": "1b3d3dab",
   "metadata": {},
   "outputs": [
    {
     "data": {
      "text/html": [
       "<div>\n",
       "<style scoped>\n",
       "    .dataframe tbody tr th:only-of-type {\n",
       "        vertical-align: middle;\n",
       "    }\n",
       "\n",
       "    .dataframe tbody tr th {\n",
       "        vertical-align: top;\n",
       "    }\n",
       "\n",
       "    .dataframe thead th {\n",
       "        text-align: right;\n",
       "    }\n",
       "</style>\n",
       "<table border=\"1\" class=\"dataframe\">\n",
       "  <thead>\n",
       "    <tr style=\"text-align: right;\">\n",
       "      <th></th>\n",
       "      <th>gender</th>\n",
       "      <th>race/ethnicity</th>\n",
       "      <th>parental level of education</th>\n",
       "      <th>lunch</th>\n",
       "      <th>test preparation course</th>\n",
       "      <th>math score</th>\n",
       "      <th>reading score</th>\n",
       "      <th>writing score</th>\n",
       "    </tr>\n",
       "  </thead>\n",
       "  <tbody>\n",
       "    <tr>\n",
       "      <th>0</th>\n",
       "      <td>female</td>\n",
       "      <td>group B</td>\n",
       "      <td>bachelor's degree</td>\n",
       "      <td>standard</td>\n",
       "      <td>none</td>\n",
       "      <td>72</td>\n",
       "      <td>72</td>\n",
       "      <td>74</td>\n",
       "    </tr>\n",
       "    <tr>\n",
       "      <th>1</th>\n",
       "      <td>female</td>\n",
       "      <td>group C</td>\n",
       "      <td>some college</td>\n",
       "      <td>standard</td>\n",
       "      <td>completed</td>\n",
       "      <td>69</td>\n",
       "      <td>90</td>\n",
       "      <td>88</td>\n",
       "    </tr>\n",
       "    <tr>\n",
       "      <th>2</th>\n",
       "      <td>female</td>\n",
       "      <td>group B</td>\n",
       "      <td>master's degree</td>\n",
       "      <td>standard</td>\n",
       "      <td>none</td>\n",
       "      <td>90</td>\n",
       "      <td>95</td>\n",
       "      <td>93</td>\n",
       "    </tr>\n",
       "    <tr>\n",
       "      <th>3</th>\n",
       "      <td>male</td>\n",
       "      <td>group A</td>\n",
       "      <td>associate's degree</td>\n",
       "      <td>free/reduced</td>\n",
       "      <td>none</td>\n",
       "      <td>47</td>\n",
       "      <td>57</td>\n",
       "      <td>44</td>\n",
       "    </tr>\n",
       "    <tr>\n",
       "      <th>4</th>\n",
       "      <td>male</td>\n",
       "      <td>group C</td>\n",
       "      <td>some college</td>\n",
       "      <td>standard</td>\n",
       "      <td>none</td>\n",
       "      <td>76</td>\n",
       "      <td>78</td>\n",
       "      <td>75</td>\n",
       "    </tr>\n",
       "  </tbody>\n",
       "</table>\n",
       "</div>"
      ],
      "text/plain": [
       "   gender race/ethnicity parental level of education         lunch  \\\n",
       "0  female        group B           bachelor's degree      standard   \n",
       "1  female        group C                some college      standard   \n",
       "2  female        group B             master's degree      standard   \n",
       "3    male        group A          associate's degree  free/reduced   \n",
       "4    male        group C                some college      standard   \n",
       "\n",
       "  test preparation course  math score  reading score  writing score  \n",
       "0                    none          72             72             74  \n",
       "1               completed          69             90             88  \n",
       "2                    none          90             95             93  \n",
       "3                    none          47             57             44  \n",
       "4                    none          76             78             75  "
      ]
     },
     "execution_count": 4,
     "metadata": {},
     "output_type": "execute_result"
    }
   ],
   "source": [
    "df = dataset.copy()\n",
    "df.head()"
   ]
  },
  {
   "cell_type": "code",
   "execution_count": 5,
   "id": "9f29b42f",
   "metadata": {},
   "outputs": [
    {
     "name": "stdout",
     "output_type": "stream",
     "text": [
      "<class 'pandas.core.frame.DataFrame'>\n",
      "RangeIndex: 1000 entries, 0 to 999\n",
      "Data columns (total 8 columns):\n",
      " #   Column                       Non-Null Count  Dtype \n",
      "---  ------                       --------------  ----- \n",
      " 0   gender                       1000 non-null   object\n",
      " 1   race/ethnicity               1000 non-null   object\n",
      " 2   parental level of education  1000 non-null   object\n",
      " 3   lunch                        1000 non-null   object\n",
      " 4   test preparation course      1000 non-null   object\n",
      " 5   math score                   1000 non-null   int64 \n",
      " 6   reading score                1000 non-null   int64 \n",
      " 7   writing score                1000 non-null   int64 \n",
      "dtypes: int64(3), object(5)\n",
      "memory usage: 62.6+ KB\n"
     ]
    }
   ],
   "source": [
    "#  Getting basic information about dataset\n",
    "df.info()"
   ]
  },
  {
   "cell_type": "code",
   "execution_count": 6,
   "id": "f9de584e",
   "metadata": {},
   "outputs": [
    {
     "name": "stdout",
     "output_type": "stream",
     "text": [
      "This dataset is having 1000 number of rows and 8 number of columns\n"
     ]
    }
   ],
   "source": [
    "print(f\"This dataset is having {df.shape[0]} number of rows and {df.shape[1]} number of columns\")"
   ]
  },
  {
   "cell_type": "code",
   "execution_count": 7,
   "id": "e8fff9a1",
   "metadata": {},
   "outputs": [
    {
     "data": {
      "text/plain": [
       "0"
      ]
     },
     "execution_count": 7,
     "metadata": {},
     "output_type": "execute_result"
    }
   ],
   "source": [
    "# checking for null values\n",
    "df.isnull().sum().sum()"
   ]
  },
  {
   "cell_type": "code",
   "execution_count": 8,
   "id": "c2b0472c",
   "metadata": {},
   "outputs": [
    {
     "data": {
      "text/plain": [
       "0"
      ]
     },
     "execution_count": 8,
     "metadata": {},
     "output_type": "execute_result"
    }
   ],
   "source": [
    "# checking for duplicate values:\n",
    "df.duplicated().sum()"
   ]
  },
  {
   "cell_type": "code",
   "execution_count": 9,
   "id": "6c7246f5",
   "metadata": {},
   "outputs": [
    {
     "name": "stdout",
     "output_type": "stream",
     "text": [
      " \n",
      "*************************************** gender **********************************************************\n",
      "['female' 'male']\n",
      " \n",
      " \n",
      "*************************************** race/ethnicity **********************************************************\n",
      "['group B' 'group C' 'group A' 'group D' 'group E']\n",
      " \n",
      " \n",
      "*************************************** parental level of education **********************************************************\n",
      "[\"bachelor's degree\" 'some college' \"master's degree\" \"associate's degree\"\n",
      " 'high school' 'some high school']\n",
      " \n",
      " \n",
      "*************************************** lunch **********************************************************\n",
      "['standard' 'free/reduced']\n",
      " \n",
      " \n",
      "*************************************** test preparation course **********************************************************\n",
      "['none' 'completed']\n",
      " \n",
      " \n",
      "*************************************** math score **********************************************************\n",
      "[ 72  69  90  47  76  71  88  40  64  38  58  65  78  50  18  46  54  66\n",
      "  44  74  73  67  70  62  63  56  97  81  75  57  55  53  59  82  77  33\n",
      "  52   0  79  39  45  60  61  41  49  30  80  42  27  43  68  85  98  87\n",
      "  51  99  84  91  83  89  22 100  96  94  48  35  34  86  92  37  28  24\n",
      "  26  95  36  29  32  93  19  23   8]\n",
      " \n",
      " \n",
      "*************************************** reading score **********************************************************\n",
      "[ 72  90  95  57  78  83  43  64  60  54  52  81  53  75  89  32  42  58\n",
      "  69  73  71  74  70  65  87  56  61  84  55  44  41  85  59  17  39  80\n",
      "  37  63  51  49  26  68  45  47  86  34  79  66  67  91 100  76  77  82\n",
      "  92  93  62  88  50  28  48  46  23  38  94  97  99  31  96  24  29  40]\n",
      " \n",
      " \n",
      "*************************************** writing score **********************************************************\n",
      "[ 74  88  93  44  75  78  92  39  67  50  52  43  73  70  58  86  28  46\n",
      "  61  63  53  80  72  55  65  38  82  79  83  59  57  54  68  66  62  76\n",
      "  48  42  87  49  10  34  71  37  56  41  22  81  45  36  89  47  90 100\n",
      "  64  98  51  40  84  69  33  60  85  91  77  27  94  95  19  35  32  96\n",
      "  97  99  15  30  23]\n",
      " \n"
     ]
    }
   ],
   "source": [
    "for i in df.columns:\n",
    "    print(\" \")\n",
    "    print(\"***************************************\",i,\"**********************************************************\")\n",
    "    print(df[i].unique())\n",
    "    print(\" \")"
   ]
  },
  {
   "cell_type": "code",
   "execution_count": 10,
   "id": "fb3385fe",
   "metadata": {},
   "outputs": [
    {
     "data": {
      "text/html": [
       "<div>\n",
       "<style scoped>\n",
       "    .dataframe tbody tr th:only-of-type {\n",
       "        vertical-align: middle;\n",
       "    }\n",
       "\n",
       "    .dataframe tbody tr th {\n",
       "        vertical-align: top;\n",
       "    }\n",
       "\n",
       "    .dataframe thead th {\n",
       "        text-align: right;\n",
       "    }\n",
       "</style>\n",
       "<table border=\"1\" class=\"dataframe\">\n",
       "  <thead>\n",
       "    <tr style=\"text-align: right;\">\n",
       "      <th></th>\n",
       "      <th>math score</th>\n",
       "      <th>reading score</th>\n",
       "      <th>writing score</th>\n",
       "    </tr>\n",
       "  </thead>\n",
       "  <tbody>\n",
       "    <tr>\n",
       "      <th>count</th>\n",
       "      <td>1000.00000</td>\n",
       "      <td>1000.000000</td>\n",
       "      <td>1000.000000</td>\n",
       "    </tr>\n",
       "    <tr>\n",
       "      <th>mean</th>\n",
       "      <td>66.08900</td>\n",
       "      <td>69.169000</td>\n",
       "      <td>68.054000</td>\n",
       "    </tr>\n",
       "    <tr>\n",
       "      <th>std</th>\n",
       "      <td>15.16308</td>\n",
       "      <td>14.600192</td>\n",
       "      <td>15.195657</td>\n",
       "    </tr>\n",
       "    <tr>\n",
       "      <th>min</th>\n",
       "      <td>0.00000</td>\n",
       "      <td>17.000000</td>\n",
       "      <td>10.000000</td>\n",
       "    </tr>\n",
       "    <tr>\n",
       "      <th>25%</th>\n",
       "      <td>57.00000</td>\n",
       "      <td>59.000000</td>\n",
       "      <td>57.750000</td>\n",
       "    </tr>\n",
       "    <tr>\n",
       "      <th>50%</th>\n",
       "      <td>66.00000</td>\n",
       "      <td>70.000000</td>\n",
       "      <td>69.000000</td>\n",
       "    </tr>\n",
       "    <tr>\n",
       "      <th>75%</th>\n",
       "      <td>77.00000</td>\n",
       "      <td>79.000000</td>\n",
       "      <td>79.000000</td>\n",
       "    </tr>\n",
       "    <tr>\n",
       "      <th>max</th>\n",
       "      <td>100.00000</td>\n",
       "      <td>100.000000</td>\n",
       "      <td>100.000000</td>\n",
       "    </tr>\n",
       "  </tbody>\n",
       "</table>\n",
       "</div>"
      ],
      "text/plain": [
       "       math score  reading score  writing score\n",
       "count  1000.00000    1000.000000    1000.000000\n",
       "mean     66.08900      69.169000      68.054000\n",
       "std      15.16308      14.600192      15.195657\n",
       "min       0.00000      17.000000      10.000000\n",
       "25%      57.00000      59.000000      57.750000\n",
       "50%      66.00000      70.000000      69.000000\n",
       "75%      77.00000      79.000000      79.000000\n",
       "max     100.00000     100.000000     100.000000"
      ]
     },
     "execution_count": 10,
     "metadata": {},
     "output_type": "execute_result"
    }
   ],
   "source": [
    "df.describe()"
   ]
  },
  {
   "cell_type": "code",
   "execution_count": 11,
   "id": "36de7368",
   "metadata": {},
   "outputs": [
    {
     "data": {
      "text/html": [
       "<div>\n",
       "<style scoped>\n",
       "    .dataframe tbody tr th:only-of-type {\n",
       "        vertical-align: middle;\n",
       "    }\n",
       "\n",
       "    .dataframe tbody tr th {\n",
       "        vertical-align: top;\n",
       "    }\n",
       "\n",
       "    .dataframe thead th {\n",
       "        text-align: right;\n",
       "    }\n",
       "</style>\n",
       "<table border=\"1\" class=\"dataframe\">\n",
       "  <thead>\n",
       "    <tr style=\"text-align: right;\">\n",
       "      <th></th>\n",
       "      <th>count</th>\n",
       "      <th>unique</th>\n",
       "      <th>top</th>\n",
       "      <th>freq</th>\n",
       "    </tr>\n",
       "  </thead>\n",
       "  <tbody>\n",
       "    <tr>\n",
       "      <th>gender</th>\n",
       "      <td>1000</td>\n",
       "      <td>2</td>\n",
       "      <td>female</td>\n",
       "      <td>518</td>\n",
       "    </tr>\n",
       "    <tr>\n",
       "      <th>race/ethnicity</th>\n",
       "      <td>1000</td>\n",
       "      <td>5</td>\n",
       "      <td>group C</td>\n",
       "      <td>319</td>\n",
       "    </tr>\n",
       "    <tr>\n",
       "      <th>parental level of education</th>\n",
       "      <td>1000</td>\n",
       "      <td>6</td>\n",
       "      <td>some college</td>\n",
       "      <td>226</td>\n",
       "    </tr>\n",
       "    <tr>\n",
       "      <th>lunch</th>\n",
       "      <td>1000</td>\n",
       "      <td>2</td>\n",
       "      <td>standard</td>\n",
       "      <td>645</td>\n",
       "    </tr>\n",
       "    <tr>\n",
       "      <th>test preparation course</th>\n",
       "      <td>1000</td>\n",
       "      <td>2</td>\n",
       "      <td>none</td>\n",
       "      <td>642</td>\n",
       "    </tr>\n",
       "  </tbody>\n",
       "</table>\n",
       "</div>"
      ],
      "text/plain": [
       "                            count unique           top freq\n",
       "gender                       1000      2        female  518\n",
       "race/ethnicity               1000      5       group C  319\n",
       "parental level of education  1000      6  some college  226\n",
       "lunch                        1000      2      standard  645\n",
       "test preparation course      1000      2          none  642"
      ]
     },
     "execution_count": 11,
     "metadata": {},
     "output_type": "execute_result"
    }
   ],
   "source": [
    "df.describe(include=['O']).T"
   ]
  },
  {
   "cell_type": "code",
   "execution_count": 12,
   "id": "7f42d980",
   "metadata": {},
   "outputs": [
    {
     "data": {
      "text/plain": [
       "Index(['gender', 'race/ethnicity', 'parental level of education', 'lunch',\n",
       "       'test preparation course', 'math score', 'reading score',\n",
       "       'writing score'],\n",
       "      dtype='object')"
      ]
     },
     "execution_count": 12,
     "metadata": {},
     "output_type": "execute_result"
    }
   ],
   "source": [
    "df.columns"
   ]
  },
  {
   "cell_type": "code",
   "execution_count": 13,
   "id": "bba93fbc",
   "metadata": {},
   "outputs": [
    {
     "data": {
      "image/png": "[encoded data removed]",
      "text/plain": [
       "<Figure size 864x720 with 3 Axes>"
      ]
     },
     "metadata": {
      "needs_background": "light"
     },
     "output_type": "display_data"
    }
   ],
   "source": [
    "# Univariate analysis:\n",
    "plt.figure(figsize=(12,10))\n",
    "index = df.select_dtypes(exclude = 'object').columns\n",
    "i=1\n",
    "for j in index:\n",
    "    plt.subplot(4,3,i)\n",
    "    sns.distplot(df[j],bins = 20,kde=True)\n",
    "    plt.axvline(df[j].mean(),color='red')\n",
    "    plt.axvline(df[j].median(),color = 'green')\n",
    "    plt.title(f'Dist plot of {j}')\n",
    "    i += 1\n",
    "plt.tight_layout()\n",
    "plt.show()\n",
    "        "
   ]
  },
  {
   "cell_type": "code",
   "execution_count": 14,
   "id": "16e8f437",
   "metadata": {},
   "outputs": [
    {
     "data": {
      "image/png": "[encoded data removed]",
      "text/plain": [
       "<Figure size 864x720 with 3 Axes>"
      ]
     },
     "metadata": {
      "needs_background": "light"
     },
     "output_type": "display_data"
    }
   ],
   "source": [
    "# Univariate analysis:\n",
    "plt.figure(figsize=(12,10))\n",
    "index = df.select_dtypes(exclude = 'object').columns\n",
    "i=1\n",
    "for j in index:\n",
    "    plt.subplot(4,3,i)\n",
    "    sns.boxplot(df[j])\n",
    "    \n",
    "    plt.title(f'Boxplot of {j}')\n",
    "    i += 1\n",
    "plt.tight_layout()\n",
    "plt.show()"
   ]
  },
  {
   "cell_type": "code",
   "execution_count": 15,
   "id": "3d6d608b",
   "metadata": {},
   "outputs": [
    {
     "data": {
      "image/png": "[encoded data removed]",
      "text/plain": [
       "<Figure size 1440x1296 with 5 Axes>"
      ]
     },
     "metadata": {
      "needs_background": "light"
     },
     "output_type": "display_data"
    }
   ],
   "source": [
    "plt.figure(figsize=(20,18))\n",
    "index = df.select_dtypes(exclude=('int','float')).columns\n",
    "i=1\n",
    "for j in index:\n",
    "    plt.subplot(4,3,i)\n",
    "    sns.countplot(df[j])\n",
    "    \n",
    "    plt.title(f'Count plot of {j}')\n",
    "    plt.xticks(rotation=90)\n",
    "    i += 1\n",
    "plt.tight_layout()\n",
    "plt.show()"
   ]
  },
  {
   "cell_type": "code",
   "execution_count": 16,
   "id": "07e10f00",
   "metadata": {},
   "outputs": [],
   "source": [
    "import sidetable as stb"
   ]
  },
  {
   "cell_type": "markdown",
   "id": "050e367d",
   "metadata": {},
   "source": [
    "# Gender :"
   ]
  },
  {
   "cell_type": "code",
   "execution_count": 17,
   "id": "dac9fabf",
   "metadata": {},
   "outputs": [
    {
     "data": {
      "text/html": [
       "<div>\n",
       "<style scoped>\n",
       "    .dataframe tbody tr th:only-of-type {\n",
       "        vertical-align: middle;\n",
       "    }\n",
       "\n",
       "    .dataframe tbody tr th {\n",
       "        vertical-align: top;\n",
       "    }\n",
       "\n",
       "    .dataframe thead th {\n",
       "        text-align: right;\n",
       "    }\n",
       "</style>\n",
       "<table border=\"1\" class=\"dataframe\">\n",
       "  <thead>\n",
       "    <tr style=\"text-align: right;\">\n",
       "      <th></th>\n",
       "      <th>gender</th>\n",
       "      <th>count</th>\n",
       "      <th>percent</th>\n",
       "    </tr>\n",
       "  </thead>\n",
       "  <tbody>\n",
       "    <tr>\n",
       "      <th>0</th>\n",
       "      <td>female</td>\n",
       "      <td>518</td>\n",
       "      <td>51.8</td>\n",
       "    </tr>\n",
       "    <tr>\n",
       "      <th>1</th>\n",
       "      <td>male</td>\n",
       "      <td>482</td>\n",
       "      <td>48.2</td>\n",
       "    </tr>\n",
       "  </tbody>\n",
       "</table>\n",
       "</div>"
      ],
      "text/plain": [
       "   gender  count  percent\n",
       "0  female    518     51.8\n",
       "1    male    482     48.2"
      ]
     },
     "execution_count": 17,
     "metadata": {},
     "output_type": "execute_result"
    }
   ],
   "source": [
    "df.stb.freq(['gender'],cum_cols = False)"
   ]
  },
  {
   "cell_type": "code",
   "execution_count": 18,
   "id": "de0a0414",
   "metadata": {},
   "outputs": [
    {
     "data": {
      "image/png": "[encoded data removed]",
      "text/plain": [
       "<Figure size 576x432 with 2 Axes>"
      ]
     },
     "metadata": {
      "needs_background": "light"
     },
     "output_type": "display_data"
    }
   ],
   "source": [
    "f,ax = plt.subplots(1,2,figsize=(8,6))\n",
    "sns.countplot(df['gender'],ax=ax[0])\n",
    "for container in ax[0].containers:\n",
    "    ax[0].bar_label(container,color='black',size=15)\n",
    "\n",
    "plt.pie(x = df['gender'].value_counts(),labels = df['gender'].value_counts().index,autopct=\"%0.2f%%\",explode=[0,0.1])\n",
    "plt.show()"
   ]
  },
  {
   "cell_type": "code",
   "execution_count": 19,
   "id": "a26e9cb9",
   "metadata": {},
   "outputs": [],
   "source": [
    "# Multivariate analysis:"
   ]
  },
  {
   "cell_type": "code",
   "execution_count": 20,
   "id": "d8a9dcb2",
   "metadata": {},
   "outputs": [
    {
     "data": {
      "text/plain": [
       "Index(['gender', 'race/ethnicity', 'parental level of education', 'lunch',\n",
       "       'test preparation course', 'math score', 'reading score',\n",
       "       'writing score'],\n",
       "      dtype='object')"
      ]
     },
     "execution_count": 20,
     "metadata": {},
     "output_type": "execute_result"
    }
   ],
   "source": [
    "df.columns"
   ]
  },
  {
   "cell_type": "code",
   "execution_count": 21,
   "id": "aca2e4a3",
   "metadata": {},
   "outputs": [
    {
     "data": {
      "text/plain": [
       "<matplotlib.legend.Legend at 0x2c881a223d0>"
      ]
     },
     "execution_count": 21,
     "metadata": {},
     "output_type": "execute_result"
    },
    {
     "data": {
      "image/png": "[encoded data removed]",
      "text/plain": [
       "<Figure size 720x720 with 1 Axes>"
      ]
     },
     "metadata": {
      "needs_background": "light"
     },
     "output_type": "display_data"
    }
   ],
   "source": [
    "df.groupby(['parental level of education']).agg('mean').plot(kind='barh',figsize=(10,10))\n",
    "plt.legend(loc='right')"
   ]
  },
  {
   "cell_type": "code",
   "execution_count": 22,
   "id": "135ddc4e",
   "metadata": {},
   "outputs": [],
   "source": [
    "# splitting data into dependent and independent variables\n",
    "x= df.drop(['math score'],axis=1)\n",
    "y=df['math score']"
   ]
  },
  {
   "cell_type": "code",
   "execution_count": 23,
   "id": "0a01f9f3",
   "metadata": {},
   "outputs": [
    {
     "data": {
      "text/html": [
       "<div>\n",
       "<style scoped>\n",
       "    .dataframe tbody tr th:only-of-type {\n",
       "        vertical-align: middle;\n",
       "    }\n",
       "\n",
       "    .dataframe tbody tr th {\n",
       "        vertical-align: top;\n",
       "    }\n",
       "\n",
       "    .dataframe thead th {\n",
       "        text-align: right;\n",
       "    }\n",
       "</style>\n",
       "<table border=\"1\" class=\"dataframe\">\n",
       "  <thead>\n",
       "    <tr style=\"text-align: right;\">\n",
       "      <th></th>\n",
       "      <th>gender</th>\n",
       "      <th>race/ethnicity</th>\n",
       "      <th>parental level of education</th>\n",
       "      <th>lunch</th>\n",
       "      <th>test preparation course</th>\n",
       "      <th>reading score</th>\n",
       "      <th>writing score</th>\n",
       "    </tr>\n",
       "  </thead>\n",
       "  <tbody>\n",
       "    <tr>\n",
       "      <th>0</th>\n",
       "      <td>female</td>\n",
       "      <td>group B</td>\n",
       "      <td>bachelor's degree</td>\n",
       "      <td>standard</td>\n",
       "      <td>none</td>\n",
       "      <td>72</td>\n",
       "      <td>74</td>\n",
       "    </tr>\n",
       "    <tr>\n",
       "      <th>1</th>\n",
       "      <td>female</td>\n",
       "      <td>group C</td>\n",
       "      <td>some college</td>\n",
       "      <td>standard</td>\n",
       "      <td>completed</td>\n",
       "      <td>90</td>\n",
       "      <td>88</td>\n",
       "    </tr>\n",
       "    <tr>\n",
       "      <th>2</th>\n",
       "      <td>female</td>\n",
       "      <td>group B</td>\n",
       "      <td>master's degree</td>\n",
       "      <td>standard</td>\n",
       "      <td>none</td>\n",
       "      <td>95</td>\n",
       "      <td>93</td>\n",
       "    </tr>\n",
       "    <tr>\n",
       "      <th>3</th>\n",
       "      <td>male</td>\n",
       "      <td>group A</td>\n",
       "      <td>associate's degree</td>\n",
       "      <td>free/reduced</td>\n",
       "      <td>none</td>\n",
       "      <td>57</td>\n",
       "      <td>44</td>\n",
       "    </tr>\n",
       "    <tr>\n",
       "      <th>4</th>\n",
       "      <td>male</td>\n",
       "      <td>group C</td>\n",
       "      <td>some college</td>\n",
       "      <td>standard</td>\n",
       "      <td>none</td>\n",
       "      <td>78</td>\n",
       "      <td>75</td>\n",
       "    </tr>\n",
       "  </tbody>\n",
       "</table>\n",
       "</div>"
      ],
      "text/plain": [
       "   gender race/ethnicity parental level of education         lunch  \\\n",
       "0  female        group B           bachelor's degree      standard   \n",
       "1  female        group C                some college      standard   \n",
       "2  female        group B             master's degree      standard   \n",
       "3    male        group A          associate's degree  free/reduced   \n",
       "4    male        group C                some college      standard   \n",
       "\n",
       "  test preparation course  reading score  writing score  \n",
       "0                    none             72             74  \n",
       "1               completed             90             88  \n",
       "2                    none             95             93  \n",
       "3                    none             57             44  \n",
       "4                    none             78             75  "
      ]
     },
     "execution_count": 23,
     "metadata": {},
     "output_type": "execute_result"
    }
   ],
   "source": [
    "x.head()"
   ]
  },
  {
   "cell_type": "code",
   "execution_count": 24,
   "id": "dab78c13",
   "metadata": {},
   "outputs": [
    {
     "data": {
      "text/plain": [
       "0    72\n",
       "1    69\n",
       "2    90\n",
       "3    47\n",
       "4    76\n",
       "Name: math score, dtype: int64"
      ]
     },
     "execution_count": 24,
     "metadata": {},
     "output_type": "execute_result"
    }
   ],
   "source": [
    "y.head()"
   ]
  },
  {
   "cell_type": "code",
   "execution_count": 25,
   "id": "9c6ff447",
   "metadata": {},
   "outputs": [],
   "source": [
    "num_features = x.select_dtypes(exclude ='object').columns\n",
    "cat_features = x.select_dtypes(include='object').columns\n",
    "\n",
    "from sklearn.preprocessing import StandardScaler,OneHotEncoder\n",
    "from sklearn.compose import ColumnTransformer\n",
    "\n",
    "scaler = StandardScaler()\n",
    "encoder = OneHotEncoder()\n",
    "\n",
    "# preprocessor = ColumnTransformer([('OneHotEncoder',encoder,cat_features)])\n",
    "# x = preprocessor.fit_transform(x)\n",
    "                          "
   ]
  },
  {
   "cell_type": "code",
   "execution_count": 26,
   "id": "db139762",
   "metadata": {},
   "outputs": [],
   "source": [
    "x =pd.get_dummies(columns=cat_features,drop_first=True,data=x)"
   ]
  },
  {
   "cell_type": "code",
   "execution_count": 27,
   "id": "c97f7664",
   "metadata": {},
   "outputs": [],
   "source": [
    "# splitting the data into train and test:\n",
    "from sklearn.model_selection import train_test_split\n",
    "x_train,x_test,y_train,y_test = train_test_split(x,y,test_size=0.2,random_state=101)"
   ]
  },
  {
   "cell_type": "code",
   "execution_count": 28,
   "id": "95d6a613",
   "metadata": {},
   "outputs": [],
   "source": [
    "x_train_scaled = scaler.fit_transform(x_train)\n",
    "x_test_scaled = scaler.transform(x_test)"
   ]
  },
  {
   "cell_type": "code",
   "execution_count": 29,
   "id": "e0e85343",
   "metadata": {},
   "outputs": [],
   "source": [
    "x_train = pd.DataFrame(x_train_scaled)\n",
    "x_test = pd.DataFrame(x_test_scaled)"
   ]
  },
  {
   "cell_type": "code",
   "execution_count": 30,
   "id": "21eaf4a8",
   "metadata": {},
   "outputs": [
    {
     "data": {
      "text/plain": [
       "array([[ 1.09418908,  0.79628564, -0.98511083, ...,  2.081666  ,\n",
       "         0.7117523 , -1.34059793],\n",
       "       [-0.61775504, -0.51758156,  1.01511421, ..., -0.48038446,\n",
       "        -1.40498317,  0.74593581],\n",
       "       [ 0.4778892 ,  0.00796532, -0.98511083, ..., -0.48038446,\n",
       "        -1.40498317,  0.74593581],\n",
       "       ...,\n",
       "       [-1.23405492, -1.63436868,  1.01511421, ..., -0.48038446,\n",
       "         0.7117523 ,  0.74593581],\n",
       "       [-0.6862328 , -1.17451516,  1.01511421, ..., -0.48038446,\n",
       "        -1.40498317,  0.74593581],\n",
       "       [ 0.13550038,  0.79628564, -0.98511083, ..., -0.48038446,\n",
       "         0.7117523 , -1.34059793]])"
      ]
     },
     "execution_count": 30,
     "metadata": {},
     "output_type": "execute_result"
    }
   ],
   "source": [
    "x_train_scaled"
   ]
  },
  {
   "cell_type": "code",
   "execution_count": 31,
   "id": "cdd9e195",
   "metadata": {},
   "outputs": [],
   "source": [
    "from sklearn import set_config"
   ]
  },
  {
   "cell_type": "code",
   "execution_count": 32,
   "id": "99f9e379",
   "metadata": {},
   "outputs": [],
   "source": [
    "set_config(display='diagram')"
   ]
  },
  {
   "cell_type": "code",
   "execution_count": 33,
   "id": "b2eca03b",
   "metadata": {},
   "outputs": [],
   "source": [
    "from sklearn.linear_model import LinearRegression\n",
    "from sklearn.ensemble import RandomForestRegressor\n"
   ]
  },
  {
   "cell_type": "code",
   "execution_count": 34,
   "id": "5976044c",
   "metadata": {},
   "outputs": [],
   "source": [
    "lr = LinearRegression()"
   ]
  },
  {
   "cell_type": "code",
   "execution_count": 35,
   "id": "4c9174c3",
   "metadata": {},
   "outputs": [
    {
     "data": {
      "text/html": [
       "<style>#sk-eec866ee-4bc7-47d9-8aa7-6eac26ca5d02 {color: black;background-color: white;}#sk-eec866ee-4bc7-47d9-8aa7-6eac26ca5d02 pre{padding: 0;}#sk-eec866ee-4bc7-47d9-8aa7-6eac26ca5d02 div.sk-toggleable {background-color: white;}#sk-eec866ee-4bc7-47d9-8aa7-6eac26ca5d02 label.sk-toggleable__label {cursor: pointer;display: block;width: 100%;margin-bottom: 0;padding: 0.3em;box-sizing: border-box;text-align: center;}#sk-eec866ee-4bc7-47d9-8aa7-6eac26ca5d02 label.sk-toggleable__label-arrow:before {content: \"▸\";float: left;margin-right: 0.25em;color: #696969;}#sk-eec866ee-4bc7-47d9-8aa7-6eac26ca5d02 label.sk-toggleable__label-arrow:hover:before {color: black;}#sk-eec866ee-4bc7-47d9-8aa7-6eac26ca5d02 div.sk-estimator:hover label.sk-toggleable__label-arrow:before {color: black;}#sk-eec866ee-4bc7-47d9-8aa7-6eac26ca5d02 div.sk-toggleable__content {max-height: 0;max-width: 0;overflow: hidden;text-align: left;background-color: #f0f8ff;}#sk-eec866ee-4bc7-47d9-8aa7-6eac26ca5d02 div.sk-toggleable__content pre {margin: 0.2em;color: black;border-radius: 0.25em;background-color: #f0f8ff;}#sk-eec866ee-4bc7-47d9-8aa7-6eac26ca5d02 input.sk-toggleable__control:checked~div.sk-toggleable__content {max-height: 200px;max-width: 100%;overflow: auto;}#sk-eec866ee-4bc7-47d9-8aa7-6eac26ca5d02 input.sk-toggleable__control:checked~label.sk-toggleable__label-arrow:before {content: \"▾\";}#sk-eec866ee-4bc7-47d9-8aa7-6eac26ca5d02 div.sk-estimator input.sk-toggleable__control:checked~label.sk-toggleable__label {background-color: #d4ebff;}#sk-eec866ee-4bc7-47d9-8aa7-6eac26ca5d02 div.sk-label input.sk-toggleable__control:checked~label.sk-toggleable__label {background-color: #d4ebff;}#sk-eec866ee-4bc7-47d9-8aa7-6eac26ca5d02 input.sk-hidden--visually {border: 0;clip: rect(1px 1px 1px 1px);clip: rect(1px, 1px, 1px, 1px);height: 1px;margin: -1px;overflow: hidden;padding: 0;position: absolute;width: 1px;}#sk-eec866ee-4bc7-47d9-8aa7-6eac26ca5d02 div.sk-estimator {font-family: monospace;background-color: #f0f8ff;border: 1px dotted black;border-radius: 0.25em;box-sizing: border-box;margin-bottom: 0.5em;}#sk-eec866ee-4bc7-47d9-8aa7-6eac26ca5d02 div.sk-estimator:hover {background-color: #d4ebff;}#sk-eec866ee-4bc7-47d9-8aa7-6eac26ca5d02 div.sk-parallel-item::after {content: \"\";width: 100%;border-bottom: 1px solid gray;flex-grow: 1;}#sk-eec866ee-4bc7-47d9-8aa7-6eac26ca5d02 div.sk-label:hover label.sk-toggleable__label {background-color: #d4ebff;}#sk-eec866ee-4bc7-47d9-8aa7-6eac26ca5d02 div.sk-serial::before {content: \"\";position: absolute;border-left: 1px solid gray;box-sizing: border-box;top: 2em;bottom: 0;left: 50%;}#sk-eec866ee-4bc7-47d9-8aa7-6eac26ca5d02 div.sk-serial {display: flex;flex-direction: column;align-items: center;background-color: white;padding-right: 0.2em;padding-left: 0.2em;}#sk-eec866ee-4bc7-47d9-8aa7-6eac26ca5d02 div.sk-item {z-index: 1;}#sk-eec866ee-4bc7-47d9-8aa7-6eac26ca5d02 div.sk-parallel {display: flex;align-items: stretch;justify-content: center;background-color: white;}#sk-eec866ee-4bc7-47d9-8aa7-6eac26ca5d02 div.sk-parallel::before {content: \"\";position: absolute;border-left: 1px solid gray;box-sizing: border-box;top: 2em;bottom: 0;left: 50%;}#sk-eec866ee-4bc7-47d9-8aa7-6eac26ca5d02 div.sk-parallel-item {display: flex;flex-direction: column;position: relative;background-color: white;}#sk-eec866ee-4bc7-47d9-8aa7-6eac26ca5d02 div.sk-parallel-item:first-child::after {align-self: flex-end;width: 50%;}#sk-eec866ee-4bc7-47d9-8aa7-6eac26ca5d02 div.sk-parallel-item:last-child::after {align-self: flex-start;width: 50%;}#sk-eec866ee-4bc7-47d9-8aa7-6eac26ca5d02 div.sk-parallel-item:only-child::after {width: 0;}#sk-eec866ee-4bc7-47d9-8aa7-6eac26ca5d02 div.sk-dashed-wrapped {border: 1px dashed gray;margin: 0 0.4em 0.5em 0.4em;box-sizing: border-box;padding-bottom: 0.4em;background-color: white;position: relative;}#sk-eec866ee-4bc7-47d9-8aa7-6eac26ca5d02 div.sk-label label {font-family: monospace;font-weight: bold;background-color: white;display: inline-block;line-height: 1.2em;}#sk-eec866ee-4bc7-47d9-8aa7-6eac26ca5d02 div.sk-label-container {position: relative;z-index: 2;text-align: center;}#sk-eec866ee-4bc7-47d9-8aa7-6eac26ca5d02 div.sk-container {/* jupyter's `normalize.less` sets `[hidden] { display: none; }` but bootstrap.min.css set `[hidden] { display: none !important; }` so we also need the `!important` here to be able to override the default hidden behavior on the sphinx rendered scikit-learn.org. See: https://github.com/scikit-learn/scikit-learn/issues/21755 */display: inline-block !important;position: relative;}#sk-eec866ee-4bc7-47d9-8aa7-6eac26ca5d02 div.sk-text-repr-fallback {display: none;}</style><div id=\"sk-eec866ee-4bc7-47d9-8aa7-6eac26ca5d02\" class=\"sk-top-container\"><div class=\"sk-text-repr-fallback\"><pre>LinearRegression()</pre><b>Please rerun this cell to show the HTML repr or trust the notebook.</b></div><div class=\"sk-container\" hidden><div class=\"sk-item\"><div class=\"sk-estimator sk-toggleable\"><input class=\"sk-toggleable__control sk-hidden--visually\" id=\"13f09e86-8e29-4291-9303-59de4664e9f2\" type=\"checkbox\" checked><label for=\"13f09e86-8e29-4291-9303-59de4664e9f2\" class=\"sk-toggleable__label sk-toggleable__label-arrow\">LinearRegression</label><div class=\"sk-toggleable__content\"><pre>LinearRegression()</pre></div></div></div></div></div>"
      ],
      "text/plain": [
       "LinearRegression()"
      ]
     },
     "execution_count": 35,
     "metadata": {},
     "output_type": "execute_result"
    }
   ],
   "source": [
    "lr.fit(x_train,y_train)"
   ]
  },
  {
   "cell_type": "code",
   "execution_count": 36,
   "id": "8983c411",
   "metadata": {},
   "outputs": [],
   "source": [
    "y_pred_test_lr = lr.predict(x_test)\n",
    "y_pred_train_lr = lr.predict(x_train)"
   ]
  },
  {
   "cell_type": "code",
   "execution_count": 37,
   "id": "497bbe5c",
   "metadata": {},
   "outputs": [],
   "source": [
    "from sklearn.metrics import r2_score,mean_absolute_error, mean_squared_error"
   ]
  },
  {
   "cell_type": "code",
   "execution_count": 38,
   "id": "d67ab569",
   "metadata": {},
   "outputs": [
    {
     "data": {
      "text/plain": [
       "0.8539032390585748"
      ]
     },
     "execution_count": 38,
     "metadata": {},
     "output_type": "execute_result"
    }
   ],
   "source": [
    "r2_score(y_test,y_pred_test_lr)"
   ]
  },
  {
   "cell_type": "code",
   "execution_count": 39,
   "id": "e30cfe8e",
   "metadata": {},
   "outputs": [],
   "source": [
    "import statsmodels.api as sm"
   ]
  },
  {
   "cell_type": "code",
   "execution_count": 40,
   "id": "a82c5fd6",
   "metadata": {},
   "outputs": [],
   "source": [
    "x_train_sm = sm.add_constant(x_train_scaled)\n",
    "y_sm = y_train.tolist()"
   ]
  },
  {
   "cell_type": "code",
   "execution_count": 41,
   "id": "7c78c9b0",
   "metadata": {},
   "outputs": [],
   "source": [
    "result = sm.OLS(y_sm,x_train_sm).fit()"
   ]
  },
  {
   "cell_type": "code",
   "execution_count": 42,
   "id": "043b8e8e",
   "metadata": {},
   "outputs": [
    {
     "data": {
      "text/html": [
       "<table class=\"simpletable\">\n",
       "<caption>OLS Regression Results</caption>\n",
       "<tr>\n",
       "  <th>Dep. Variable:</th>            <td>y</td>        <th>  R-squared:         </th> <td>   0.881</td>\n",
       "</tr>\n",
       "<tr>\n",
       "  <th>Model:</th>                   <td>OLS</td>       <th>  Adj. R-squared:    </th> <td>   0.878</td>\n",
       "</tr>\n",
       "<tr>\n",
       "  <th>Method:</th>             <td>Least Squares</td>  <th>  F-statistic:       </th> <td>   413.4</td>\n",
       "</tr>\n",
       "<tr>\n",
       "  <th>Date:</th>             <td>Sun, 27 Aug 2023</td> <th>  Prob (F-statistic):</th>  <td>  0.00</td> \n",
       "</tr>\n",
       "<tr>\n",
       "  <th>Time:</th>                 <td>12:54:43</td>     <th>  Log-Likelihood:    </th> <td> -2474.0</td>\n",
       "</tr>\n",
       "<tr>\n",
       "  <th>No. Observations:</th>      <td>   800</td>      <th>  AIC:               </th> <td>   4978.</td>\n",
       "</tr>\n",
       "<tr>\n",
       "  <th>Df Residuals:</th>          <td>   785</td>      <th>  BIC:               </th> <td>   5048.</td>\n",
       "</tr>\n",
       "<tr>\n",
       "  <th>Df Model:</th>              <td>    14</td>      <th>                     </th>     <td> </td>   \n",
       "</tr>\n",
       "<tr>\n",
       "  <th>Covariance Type:</th>      <td>nonrobust</td>    <th>                     </th>     <td> </td>   \n",
       "</tr>\n",
       "</table>\n",
       "<table class=\"simpletable\">\n",
       "<tr>\n",
       "    <td></td>       <th>coef</th>     <th>std err</th>      <th>t</th>      <th>P>|t|</th>  <th>[0.025</th>    <th>0.975]</th>  \n",
       "</tr>\n",
       "<tr>\n",
       "  <th>const</th> <td>   66.0362</td> <td>    0.190</td> <td>  347.034</td> <td> 0.000</td> <td>   65.663</td> <td>   66.410</td>\n",
       "</tr>\n",
       "<tr>\n",
       "  <th>x1</th>    <td>    3.9224</td> <td>    0.705</td> <td>    5.564</td> <td> 0.000</td> <td>    2.538</td> <td>    5.306</td>\n",
       "</tr>\n",
       "<tr>\n",
       "  <th>x2</th>    <td>   10.7345</td> <td>    0.757</td> <td>   14.175</td> <td> 0.000</td> <td>    9.248</td> <td>   12.221</td>\n",
       "</tr>\n",
       "<tr>\n",
       "  <th>x3</th>    <td>    6.8661</td> <td>    0.209</td> <td>   32.869</td> <td> 0.000</td> <td>    6.456</td> <td>    7.276</td>\n",
       "</tr>\n",
       "<tr>\n",
       "  <th>x4</th>    <td>    0.6528</td> <td>    0.300</td> <td>    2.173</td> <td> 0.030</td> <td>    0.063</td> <td>    1.243</td>\n",
       "</tr>\n",
       "<tr>\n",
       "  <th>x5</th>    <td>    0.4839</td> <td>    0.336</td> <td>    1.439</td> <td> 0.151</td> <td>   -0.176</td> <td>    1.144</td>\n",
       "</tr>\n",
       "<tr>\n",
       "  <th>x6</th>    <td>    0.3256</td> <td>    0.325</td> <td>    1.002</td> <td> 0.317</td> <td>   -0.312</td> <td>    0.963</td>\n",
       "</tr>\n",
       "<tr>\n",
       "  <th>x7</th>    <td>    1.9583</td> <td>    0.282</td> <td>    6.950</td> <td> 0.000</td> <td>    1.405</td> <td>    2.511</td>\n",
       "</tr>\n",
       "<tr>\n",
       "  <th>x8</th>    <td>   -0.3491</td> <td>    0.224</td> <td>   -1.558</td> <td> 0.120</td> <td>   -0.789</td> <td>    0.091</td>\n",
       "</tr>\n",
       "<tr>\n",
       "  <th>x9</th>    <td>    0.2088</td> <td>    0.238</td> <td>    0.876</td> <td> 0.381</td> <td>   -0.259</td> <td>    0.677</td>\n",
       "</tr>\n",
       "<tr>\n",
       "  <th>x10</th>   <td>   -0.3103</td> <td>    0.209</td> <td>   -1.484</td> <td> 0.138</td> <td>   -0.721</td> <td>    0.100</td>\n",
       "</tr>\n",
       "<tr>\n",
       "  <th>x11</th>   <td>   -0.0026</td> <td>    0.240</td> <td>   -0.011</td> <td> 0.991</td> <td>   -0.474</td> <td>    0.469</td>\n",
       "</tr>\n",
       "<tr>\n",
       "  <th>x12</th>   <td>    0.1995</td> <td>    0.240</td> <td>    0.833</td> <td> 0.405</td> <td>   -0.271</td> <td>    0.670</td>\n",
       "</tr>\n",
       "<tr>\n",
       "  <th>x13</th>   <td>    1.5347</td> <td>    0.203</td> <td>    7.566</td> <td> 0.000</td> <td>    1.137</td> <td>    1.933</td>\n",
       "</tr>\n",
       "<tr>\n",
       "  <th>x14</th>   <td>    1.7111</td> <td>    0.216</td> <td>    7.920</td> <td> 0.000</td> <td>    1.287</td> <td>    2.135</td>\n",
       "</tr>\n",
       "</table>\n",
       "<table class=\"simpletable\">\n",
       "<tr>\n",
       "  <th>Omnibus:</th>       <td> 0.142</td> <th>  Durbin-Watson:     </th> <td>   1.961</td>\n",
       "</tr>\n",
       "<tr>\n",
       "  <th>Prob(Omnibus):</th> <td> 0.931</td> <th>  Jarque-Bera (JB):  </th> <td>   0.180</td>\n",
       "</tr>\n",
       "<tr>\n",
       "  <th>Skew:</th>          <td>-0.031</td> <th>  Prob(JB):          </th> <td>   0.914</td>\n",
       "</tr>\n",
       "<tr>\n",
       "  <th>Kurtosis:</th>      <td> 2.961</td> <th>  Cond. No.          </th> <td>    8.39</td>\n",
       "</tr>\n",
       "</table><br/><br/>Notes:<br/>[1] Standard Errors assume that the covariance matrix of the errors is correctly specified."
      ],
      "text/plain": [
       "<class 'statsmodels.iolib.summary.Summary'>\n",
       "\"\"\"\n",
       "                            OLS Regression Results                            \n",
       "==============================================================================\n",
       "Dep. Variable:                      y   R-squared:                       0.881\n",
       "Model:                            OLS   Adj. R-squared:                  0.878\n",
       "Method:                 Least Squares   F-statistic:                     413.4\n",
       "Date:                Sun, 27 Aug 2023   Prob (F-statistic):               0.00\n",
       "Time:                        12:54:43   Log-Likelihood:                -2474.0\n",
       "No. Observations:                 800   AIC:                             4978.\n",
       "Df Residuals:                     785   BIC:                             5048.\n",
       "Df Model:                          14                                         \n",
       "Covariance Type:            nonrobust                                         \n",
       "==============================================================================\n",
       "                 coef    std err          t      P>|t|      [0.025      0.975]\n",
       "------------------------------------------------------------------------------\n",
       "const         66.0362      0.190    347.034      0.000      65.663      66.410\n",
       "x1             3.9224      0.705      5.564      0.000       2.538       5.306\n",
       "x2            10.7345      0.757     14.175      0.000       9.248      12.221\n",
       "x3             6.8661      0.209     32.869      0.000       6.456       7.276\n",
       "x4             0.6528      0.300      2.173      0.030       0.063       1.243\n",
       "x5             0.4839      0.336      1.439      0.151      -0.176       1.144\n",
       "x6             0.3256      0.325      1.002      0.317      -0.312       0.963\n",
       "x7             1.9583      0.282      6.950      0.000       1.405       2.511\n",
       "x8            -0.3491      0.224     -1.558      0.120      -0.789       0.091\n",
       "x9             0.2088      0.238      0.876      0.381      -0.259       0.677\n",
       "x10           -0.3103      0.209     -1.484      0.138      -0.721       0.100\n",
       "x11           -0.0026      0.240     -0.011      0.991      -0.474       0.469\n",
       "x12            0.1995      0.240      0.833      0.405      -0.271       0.670\n",
       "x13            1.5347      0.203      7.566      0.000       1.137       1.933\n",
       "x14            1.7111      0.216      7.920      0.000       1.287       2.135\n",
       "==============================================================================\n",
       "Omnibus:                        0.142   Durbin-Watson:                   1.961\n",
       "Prob(Omnibus):                  0.931   Jarque-Bera (JB):                0.180\n",
       "Skew:                          -0.031   Prob(JB):                        0.914\n",
       "Kurtosis:                       2.961   Cond. No.                         8.39\n",
       "==============================================================================\n",
       "\n",
       "Notes:\n",
       "[1] Standard Errors assume that the covariance matrix of the errors is correctly specified.\n",
       "\"\"\""
      ]
     },
     "execution_count": 42,
     "metadata": {},
     "output_type": "execute_result"
    }
   ],
   "source": [
    "result.summary()"
   ]
  },
  {
   "cell_type": "code",
   "execution_count": null,
   "id": "d428b3a9",
   "metadata": {},
   "outputs": [],
   "source": []
  }
 ],
 "metadata": {
  "kernelspec": {
   "display_name": "Python 3 (ipykernel)",
   "language": "python",
   "name": "python3"
  },
  "language_info": {
   "codemirror_mode": {
    "name": "ipython",
    "version": 3
   },
   "file_extension": ".py",
   "mimetype": "text/x-python",
   "name": "python",
   "nbconvert_exporter": "python",
   "pygments_lexer": "ipython3",
   "version": "3.9.12"
  }
 },
 "nbformat": 4,
 "nbformat_minor": 5
}
